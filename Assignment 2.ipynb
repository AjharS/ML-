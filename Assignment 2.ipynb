{
 "cells": [
  {
   "cell_type": "markdown",
   "metadata": {},
   "source": [
    "## Assignment 2"
   ]
  },
  {
   "cell_type": "markdown",
   "metadata": {},
   "source": [
    "### Task 1"
   ]
  },
  {
   "cell_type": "markdown",
   "metadata": {},
   "source": [
    "#### 1.1\n",
    "\n",
    "Write a Python Program to implement your own myreduce() function which works exactly like\n",
    "Python's built-in function reduce()\n"
   ]
  },
  {
   "cell_type": "code",
   "execution_count": 29,
   "metadata": {},
   "outputs": [
    {
     "data": {
      "text/plain": [
       "33"
      ]
     },
     "execution_count": 29,
     "metadata": {},
     "output_type": "execute_result"
    }
   ],
   "source": [
    "lst = [2,4,2,8,5,3,9]\n",
    "def myreduce(func,lst):\n",
    "    result = lst[0]\n",
    "    \n",
    "    for i in lst[1:]:\n",
    "        result = func(result,i)\n",
    "        \n",
    "    return result\n",
    "        \n",
    "        \n",
    "\n",
    "\n",
    "myreduce(lambda x,y: x + y,lst)"
   ]
  },
  {
   "cell_type": "markdown",
   "metadata": {},
   "source": [
    "***\n",
    "\n",
    "\n",
    "#### 1.2\n",
    "\n",
    "Write a Python program to implement your own myfilter() function which works exactly like\n",
    "Python's built-in function filter()"
   ]
  },
  {
   "cell_type": "code",
   "execution_count": 37,
   "metadata": {},
   "outputs": [
    {
     "data": {
      "text/plain": [
       "[2, 4, 6, 8, 10, 12, 14, 16, 18, 20]"
      ]
     },
     "execution_count": 37,
     "metadata": {},
     "output_type": "execute_result"
    }
   ],
   "source": [
    "lst = [i+1 for i in range(20)]\n",
    "\n",
    "def myfilter(func,lst):\n",
    "    l = list()\n",
    "    for i in lst:\n",
    "        if func(i) is True:\n",
    "            l.append(i)\n",
    "    return l\n",
    "\n",
    "myfilter(lambda x : x % 2 == 0,lst)"
   ]
  },
  {
   "cell_type": "markdown",
   "metadata": {},
   "source": [
    "***\n",
    "\n",
    "#### 2\n",
    "\n",
    "Implement List comprehensions to produce the following lists.\n",
    "Write List comprehensions to produce the following Lists\n",
    "\n",
    "['A', 'C', 'A', 'D', 'G', 'I', ’L’, ‘ D’] <br>\n",
    "['x', 'xx', 'xxx', 'xxxx', 'y', 'yy', 'yyy', 'yyyy', 'z', 'zz', 'zzz', 'zzzz'] <br>\n",
    "['x', 'y', 'z', 'xx', 'yy', 'zz', 'xx', 'yy', 'zz', 'xxxx', 'yyyy', 'zzzz'] <br>\n",
    "[[2], [3], [4], [3], [4], [5], [4], [5], [6]] <br>\n",
    "[[2, 3, 4, 5], [3, 4, 5, 6], [4, 5, 6, 7], [5, 6, 7, 8]] <br>\n",
    "[(1, 1), (2, 1), (3, 1), (1, 2), (2, 2), (3, 2), (1, 3), (2, 3), (3, 3)]\n"
   ]
  },
  {
   "cell_type": "code",
   "execution_count": 111,
   "metadata": {},
   "outputs": [
    {
     "name": "stdout",
     "output_type": "stream",
     "text": [
      "First : ['A', 'C', 'A', 'D', 'G', 'I', 'L', 'D']\n",
      "\n",
      "Second : ['x', 'xx', 'xxx', 'xxxx', 'y', 'yy', 'yyy', 'yyyy', 'z', 'zz', 'zzz', 'zzzz']\n",
      "\n",
      "Third : ['x', 'y', 'z', 'xx', 'yy', 'zz', 'xxx', 'yyy', 'zzz', 'xxxx', 'yyyy', 'zzzz']\n",
      "\n",
      "Fourth : [[2], [3], [4], [3], [4], [5], [4], [5], [6]]\n",
      "\n",
      "Fifth : [[2, 3, 4, 5], [3, 4, 5, 6], [4, 5, 6, 7], [5, 6, 7, 8]]\n",
      "\n",
      "Sixth : [(1, 1), (2, 1), (3, 1), (1, 2), (2, 2), (3, 2), (1, 3), (2, 3), (3, 3)]\n"
     ]
    }
   ],
   "source": [
    "first = [i for i in ['A', 'C', 'A', 'D', 'G', 'I', 'L', 'D']]\n",
    "print(f\"First : {first}\")\n",
    "\n",
    "second = [i * j for j in ['x','y','z'] for i in range(1,5)]\n",
    "print(f\"\\nSecond : {second}\")\n",
    "\n",
    "third = [i * j for i in range(1,5) for j in ['x','y','z']]\n",
    "print(f\"\\nThird : {third}\")\n",
    "\n",
    "fourth = [[i + j] for j in [0,1,2] for i in range(2,5)]\n",
    "print(f\"\\nFourth : {fourth}\")\n",
    "\n",
    "fifth = [[i+j for j in [0,1,2,3]] for i in range(2,6)]\n",
    "print(f\"\\nFifth : {fifth}\")\n",
    "\n",
    "sixth = [(i,j) for j in range(1,4) for i in range(1,4)]\n",
    "print(f\"\\nSixth : {sixth}\")"
   ]
  },
  {
   "cell_type": "markdown",
   "metadata": {},
   "source": [
    "***\n",
    "#### 3.\n",
    "Implement a function longestWord() that takes a list of words and returns the longest one."
   ]
  },
  {
   "cell_type": "code",
   "execution_count": 149,
   "metadata": {},
   "outputs": [
    {
     "data": {
      "text/plain": [
       "'longestWord()'"
      ]
     },
     "execution_count": 149,
     "metadata": {},
     "output_type": "execute_result"
    }
   ],
   "source": [
    "def longestWord(Str):\n",
    "    l = {len(i):i for i in Str.split(' ')}\n",
    "    return l[max(l.keys())]\n",
    "    \n",
    "\n",
    "l = 'Implement a function longestWord() that takes a list of words and returns the longest one'\n",
    "longestWord(l)\n"
   ]
  },
  {
   "cell_type": "markdown",
   "metadata": {},
   "source": [
    "***\n",
    "***"
   ]
  },
  {
   "cell_type": "markdown",
   "metadata": {},
   "source": [
    "### Task 2"
   ]
  },
  {
   "cell_type": "markdown",
   "metadata": {},
   "source": [
    "#### 1.1\n",
    "\n",
    "Write a Python Program(with class concepts) to find the area of the triangle using the below\n",
    "formula.\n",
    "\n",
    "\n",
    "area = (s*(s-a)*(s-b)*(s-c)) * * 0.5"
   ]
  },
  {
   "cell_type": "code",
   "execution_count": 16,
   "metadata": {},
   "outputs": [
    {
     "name": "stdin",
     "output_type": "stream",
     "text": [
      "Enter 1st side :  24\n",
      "Enter 2nd side :  67\n",
      "Enter 3rd side :  87\n"
     ]
    },
    {
     "name": "stdout",
     "output_type": "stream",
     "text": [
      "Area of Triangle : 504.51957345577785\n"
     ]
    }
   ],
   "source": [
    "class Area:\n",
    "    \n",
    "    def __init__(self,side_a,side_b,side_c):\n",
    "        self.__A = side_a\n",
    "        self.__B = side_b\n",
    "        self.__C = side_c\n",
    "    \n",
    "    def cal_area(self):\n",
    "        self.side = 0.5 * (self.__A + self.__B + self.__C)\n",
    "        return (self.side * (self.side - self.__A)*(self.side - self.__B)*(self.side - self.__C)) ** 0.5\n",
    "    \n",
    "\n",
    "    \n",
    "if __name__== '__main__':\n",
    "    a = Area(int(input(\"Enter 1st side : \")),int(input(\"Enter 2nd side : \")),int(input(\"Enter 3rd side : \")))\n",
    "    print(f\"Area of Triangle : {a.cal_area()}\")"
   ]
  },
  {
   "cell_type": "markdown",
   "metadata": {},
   "source": [
    "***\n",
    "\n",
    "\n",
    "#### 1.2\n",
    "Write a function filter_long_words() that takes a list of words and an integer n and returns the list\n",
    "of words that are longer than n.\n"
   ]
  },
  {
   "cell_type": "code",
   "execution_count": 39,
   "metadata": {},
   "outputs": [
    {
     "name": "stdin",
     "output_type": "stream",
     "text": [
      "Enter your string :  Write a function filter_long_words() that takes a list of words and an integer n and returns the list of words that are longer than n\n",
      "Enter your number :  6\n"
     ]
    },
    {
     "name": "stdout",
     "output_type": "stream",
     "text": [
      "Long words : ['function', 'filter_long_words()', 'returns']\n"
     ]
    }
   ],
   "source": [
    "def filter_long_word(Str,n):\n",
    "    lst = {len(i):i for i in Str.split(' ')}\n",
    "    return [lst[i] for i in lst.keys() if i > n]\n",
    "\n",
    "if __name__ == '__main__':\n",
    "    print(f\"Long words : {filter_long_word(input('Enter your string : '),int(input('Enter your number : ')))}\")"
   ]
  },
  {
   "cell_type": "markdown",
   "metadata": {},
   "source": [
    "***\n",
    "\n",
    "#### 2.1\n",
    "\n",
    "\n",
    "Write a Python program using function concept that maps list of words into a list of integers\n",
    "representing the lengths of the corresponding words.\n"
   ]
  },
  {
   "cell_type": "code",
   "execution_count": 47,
   "metadata": {},
   "outputs": [
    {
     "name": "stdin",
     "output_type": "stream",
     "text": [
      "Enter your sting :  Write a Python program using function concept that maps list of words into a list of integers\n"
     ]
    },
    {
     "name": "stdout",
     "output_type": "stream",
     "text": [
      "Length of the each word is as : [5, 1, 6, 7, 5, 8, 7, 4, 4, 4, 2, 5, 4, 8]\n"
     ]
    }
   ],
   "source": [
    "def len_of_word(Str):\n",
    "    lst = {i:len(i) for i in Str.split(' ')}\n",
    "    return list(lst.values())\n",
    "\n",
    "if __name__ == '__main__':\n",
    "    print(f\"Length of the each word is as : {len_of_word(input('Enter your sting : '))}\")"
   ]
  },
  {
   "cell_type": "markdown",
   "metadata": {},
   "source": [
    "***\n",
    "\n",
    "#### 2.2 \n",
    "\n",
    "\n",
    "Write a Python function which takes a character (i.e. a string of length 1) and returns True if it is\n",
    "a vowel, False otherwise"
   ]
  },
  {
   "cell_type": "code",
   "execution_count": 57,
   "metadata": {},
   "outputs": [
    {
     "name": "stdin",
     "output_type": "stream",
     "text": [
      "Enter  your single character :  fg\n"
     ]
    },
    {
     "name": "stdout",
     "output_type": "stream",
     "text": [
      "Provide single character only......!!\n"
     ]
    }
   ],
   "source": [
    "def vowels_check(char):\n",
    "    if char.isalpha():\n",
    "        return True\n",
    "    else:\n",
    "        return False\n",
    "    \n",
    "    \n",
    "if __name__ == '__main__':\n",
    "    char = input(\"Enter  your single character : \")\n",
    "    if len(char) == 1:\n",
    "        print(f\"{char} being vowel is {vowels_check(char)}\")\n",
    "    else:\n",
    "        print('Provide single character only......!!')"
   ]
  },
  {
   "cell_type": "code",
   "execution_count": null,
   "metadata": {},
   "outputs": [],
   "source": []
  }
 ],
 "metadata": {
  "kernelspec": {
   "display_name": "Python 3",
   "language": "python",
   "name": "python3"
  },
  "language_info": {
   "codemirror_mode": {
    "name": "ipython",
    "version": 3
   },
   "file_extension": ".py",
   "mimetype": "text/x-python",
   "name": "python",
   "nbconvert_exporter": "python",
   "pygments_lexer": "ipython3",
   "version": "3.7.3"
  }
 },
 "nbformat": 4,
 "nbformat_minor": 2
}
