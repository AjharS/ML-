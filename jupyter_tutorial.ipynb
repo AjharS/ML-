{
 "cells": [
  {
   "cell_type": "markdown",
   "metadata": {},
   "source": [
    "Text Modification:\n",
    "<br>\n",
    "Strong emphasis, aka bold, with **asterisks** and __underscore__\n",
    "<br>\n",
    "combined emphasis with **asterisks and __underscore__**\n",
    "<br>\n",
    "Strikethrough uses two tildes. ~~Scratch this~~"
   ]
  },
  {
   "cell_type": "markdown",
   "metadata": {},
   "source": [
    "Lists:\n",
    "\n",
    "1. First ordered list item\n",
    "2. Another item\n",
    "   * Unordered sub-list\n",
    "1. Actual numbers don't matter, just that it's a number\n",
    "   1. ordered sub-list\n",
    "   \n",
    "*  Unordered list can use asterisks\n",
    "+ or plus\n",
    "- or minus"
   ]
  },
  {
   "cell_type": "code",
   "execution_count": null,
   "metadata": {},
   "outputs": [],
   "source": []
  }
 ],
 "metadata": {
  "kernelspec": {
   "display_name": "Python 3",
   "language": "python",
   "name": "python3"
  },
  "language_info": {
   "codemirror_mode": {
    "name": "ipython",
    "version": 3
   },
   "file_extension": ".py",
   "mimetype": "text/x-python",
   "name": "python",
   "nbconvert_exporter": "python",
   "pygments_lexer": "ipython3",
   "version": "3.7.3"
  }
 },
 "nbformat": 4,
 "nbformat_minor": 2
}
